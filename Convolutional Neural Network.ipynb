{
 "cells": [
  {
   "cell_type": "code",
   "execution_count": 1,
   "id": "c6cea936",
   "metadata": {},
   "outputs": [],
   "source": [
    "import numpy as np\n",
    "import matplotlib.pyplot as plt\n",
    "\n",
    "import torch\n",
    "import torchvision\n",
    "import torch.nn as nn\n",
    "import torch.nn.functional as F\n",
    "import torchvision.transforms as transforms"
   ]
  },
  {
   "cell_type": "markdown",
   "id": "22e36e15",
   "metadata": {},
   "source": [
    "Imported all nessessary libraries"
   ]
  },
  {
   "cell_type": "code",
   "execution_count": 2,
   "id": "64b085cc",
   "metadata": {},
   "outputs": [
    {
     "data": {
      "text/plain": [
       "['AutoAugment',\n",
       " 'AutoAugmentPolicy',\n",
       " 'CenterCrop',\n",
       " 'ColorJitter',\n",
       " 'Compose',\n",
       " 'ConvertImageDtype',\n",
       " 'Enum',\n",
       " 'F',\n",
       " 'FiveCrop',\n",
       " 'GaussianBlur',\n",
       " 'Grayscale',\n",
       " 'InterpolationMode',\n",
       " 'Lambda',\n",
       " 'LinearTransformation',\n",
       " 'List',\n",
       " 'Normalize',\n",
       " 'Optional',\n",
       " 'PILToTensor',\n",
       " 'Pad',\n",
       " 'RandomAdjustSharpness',\n",
       " 'RandomAffine',\n",
       " 'RandomApply',\n",
       " 'RandomAutocontrast',\n",
       " 'RandomChoice',\n",
       " 'RandomCrop',\n",
       " 'RandomEqualize',\n",
       " 'RandomErasing',\n",
       " 'RandomGrayscale',\n",
       " 'RandomHorizontalFlip',\n",
       " 'RandomInvert',\n",
       " 'RandomOrder',\n",
       " 'RandomPerspective',\n",
       " 'RandomPosterize',\n",
       " 'RandomResizedCrop',\n",
       " 'RandomRotation',\n",
       " 'RandomSizedCrop',\n",
       " 'RandomSolarize',\n",
       " 'RandomVerticalFlip',\n",
       " 'Resize',\n",
       " 'Scale',\n",
       " 'TenCrop',\n",
       " 'Tensor',\n",
       " 'ToPILImage',\n",
       " 'ToTensor',\n",
       " 'Tuple',\n",
       " '__builtins__',\n",
       " '__cached__',\n",
       " '__doc__',\n",
       " '__file__',\n",
       " '__loader__',\n",
       " '__name__',\n",
       " '__package__',\n",
       " '__path__',\n",
       " '__spec__',\n",
       " 'autoaugment',\n",
       " 'functional',\n",
       " 'functional_pil',\n",
       " 'functional_tensor',\n",
       " 'math',\n",
       " 'torch',\n",
       " 'transforms']"
      ]
     },
     "execution_count": 2,
     "metadata": {},
     "output_type": "execute_result"
    }
   ],
   "source": [
    "dir(transforms)"
   ]
  },
  {
   "cell_type": "code",
   "execution_count": 3,
   "id": "f0ed51d8",
   "metadata": {},
   "outputs": [],
   "source": [
    "transform = transforms.Compose([\n",
    "    transforms.ToTensor(),\n",
    "])"
   ]
  },
  {
   "cell_type": "code",
   "execution_count": 4,
   "id": "4e153e53",
   "metadata": {},
   "outputs": [
    {
     "name": "stdout",
     "output_type": "stream",
     "text": [
      "Downloading https://www.cs.toronto.edu/~kriz/cifar-10-python.tar.gz to ./datasets/cifar10/train/cifar-10-python.tar.gz\n"
     ]
    },
    {
     "data": {
      "application/vnd.jupyter.widget-view+json": {
       "model_id": "6de23428cab848c4823e97470689bdda",
       "version_major": 2,
       "version_minor": 0
      },
      "text/plain": [
       "  0%|          | 0/170498071 [00:00<?, ?it/s]"
      ]
     },
     "metadata": {},
     "output_type": "display_data"
    },
    {
     "name": "stdout",
     "output_type": "stream",
     "text": [
      "Extracting ./datasets/cifar10/train/cifar-10-python.tar.gz to ./datasets/cifar10/train\n"
     ]
    }
   ],
   "source": [
    "dataset = torchvision.datasets.CIFAR10(root='./datasets/cifar10/train', download=True, transform = transform)"
   ]
  },
  {
   "cell_type": "code",
   "execution_count": 5,
   "id": "c7b5bf26",
   "metadata": {},
   "outputs": [
    {
     "data": {
      "text/plain": [
       "Dataset CIFAR10\n",
       "    Number of datapoints: 50000\n",
       "    Root location: ./datasets/cifar10/train\n",
       "    Split: Train\n",
       "    StandardTransform\n",
       "Transform: Compose(\n",
       "               ToTensor()\n",
       "           )"
      ]
     },
     "execution_count": 5,
     "metadata": {},
     "output_type": "execute_result"
    }
   ],
   "source": [
    "dataset"
   ]
  },
  {
   "cell_type": "code",
   "execution_count": 6,
   "id": "90356f86",
   "metadata": {},
   "outputs": [],
   "source": [
    "dataloader = torch.utils.data.DataLoader(dataset,\n",
    "                                        batch_size=64,\n",
    "                                        shuffle=True,\n",
    "                                        num_workers=2)"
   ]
  },
  {
   "cell_type": "code",
   "execution_count": 7,
   "id": "2bd94bd5",
   "metadata": {},
   "outputs": [],
   "source": [
    "data_mean = []\n",
    "data_std = []\n",
    "\n",
    "for i, data in enumerate(dataloader, 0):\n",
    "    \n",
    "    numpy_image = data[0].numpy()\n",
    "    \n",
    "    batch_mean = np.mean(numpy_image, axis=(0, 2, 3))\n",
    "    batch_std = np.std(numpy_image, axis=(0, 2, 3))\n",
    "    \n",
    "    data_mean.append(batch_mean)\n",
    "    data_std.append(batch_std)\n",
    "    \n",
    "data_mean = np.array(data_mean)\n",
    "data_std = np.array(data_std)\n",
    "\n",
    "data_mean = data_mean.mean(axis=0)\n",
    "data_std = data_std.mean(axis=0)"
   ]
  },
  {
   "cell_type": "code",
   "execution_count": 8,
   "id": "27d23b3c",
   "metadata": {},
   "outputs": [
    {
     "name": "stdout",
     "output_type": "stream",
     "text": [
      "[0.49133664 0.48212263 0.44654334]\n",
      "[0.24636616 0.24282514 0.2607471 ]\n"
     ]
    }
   ],
   "source": [
    "print(data_mean)\n",
    "print(data_std)"
   ]
  },
  {
   "cell_type": "code",
   "execution_count": 9,
   "id": "34219b48",
   "metadata": {},
   "outputs": [],
   "source": [
    "train_transform = transforms.Compose([\n",
    "    transforms.RandomResizedCrop(32),\n",
    "    transforms.RandomHorizontalFlip(),\n",
    "    transforms.Pad(4),\n",
    "    transforms.ToTensor(),\n",
    "    transforms.Normalize(data_mean, data_std)\n",
    "])"
   ]
  },
  {
   "cell_type": "code",
   "execution_count": 10,
   "id": "6b846cb9",
   "metadata": {},
   "outputs": [],
   "source": [
    "test_transform = transforms.Compose([\n",
    "    transforms.ToTensor(),\n",
    "    transforms.Normalize(data_mean, data_std)\n",
    "])"
   ]
  },
  {
   "cell_type": "code",
   "execution_count": 11,
   "id": "4039513e",
   "metadata": {},
   "outputs": [
    {
     "name": "stdout",
     "output_type": "stream",
     "text": [
      "Files already downloaded and verified\n"
     ]
    }
   ],
   "source": [
    "trainset = torchvision.datasets.CIFAR10(root='./datasets/cifar10/train', \n",
    "                                        train=True,\n",
    "                                        download=True, \n",
    "                                        transform = train_transform)"
   ]
  },
  {
   "cell_type": "code",
   "execution_count": 12,
   "id": "3b9c1faa",
   "metadata": {},
   "outputs": [
    {
     "name": "stdout",
     "output_type": "stream",
     "text": [
      "Files already downloaded and verified\n"
     ]
    }
   ],
   "source": [
    "testset = torchvision.datasets.CIFAR10(root='./datasets/cifar10/train', \n",
    "                                        train=False,\n",
    "                                        download=True, \n",
    "                                        transform = test_transform)"
   ]
  },
  {
   "cell_type": "code",
   "execution_count": 13,
   "id": "19637811",
   "metadata": {},
   "outputs": [],
   "source": [
    "trainloader = torch.utils.data.DataLoader(trainset,\n",
    "                                          batch_size=64,\n",
    "                                          shuffle=True,\n",
    "                                          num_workers=2)"
   ]
  },
  {
   "cell_type": "code",
   "execution_count": 14,
   "id": "8d0dd05e",
   "metadata": {},
   "outputs": [],
   "source": [
    "testloader = torch.utils.data.DataLoader(trainset,\n",
    "                                          batch_size=64,\n",
    "                                          shuffle=False,\n",
    "                                          num_workers=2)"
   ]
  },
  {
   "cell_type": "code",
   "execution_count": 15,
   "id": "9bb35568",
   "metadata": {},
   "outputs": [],
   "source": [
    "num_channels = 3\n",
    "\n",
    "out1_size = 4096\n",
    "out2_size = 1000\n",
    "out3_size = 10\n",
    "\n",
    "size_64 = 64\n",
    "size_128 = 128\n",
    "size_256 = 256\n",
    "size_512 = 512\n",
    "\n",
    "kernel_size = 3"
   ]
  },
  {
   "cell_type": "code",
   "execution_count": 1,
   "id": "a5a5dbb8",
   "metadata": {},
   "outputs": [
    {
     "ename": "NameError",
     "evalue": "name 'nn' is not defined",
     "output_type": "error",
     "traceback": [
      "\u001b[0;31m---------------------------------------------------------------------------\u001b[0m",
      "\u001b[0;31mNameError\u001b[0m                                 Traceback (most recent call last)",
      "\u001b[0;32m<ipython-input-1-dfdb2a8fbb74>\u001b[0m in \u001b[0;36m<module>\u001b[0;34m\u001b[0m\n\u001b[0;32m----> 1\u001b[0;31m \u001b[0;32mclass\u001b[0m \u001b[0mConvNet\u001b[0m\u001b[0;34m(\u001b[0m\u001b[0mnn\u001b[0m\u001b[0;34m.\u001b[0m\u001b[0mModule\u001b[0m\u001b[0;34m)\u001b[0m\u001b[0;34m:\u001b[0m\u001b[0;34m\u001b[0m\u001b[0;34m\u001b[0m\u001b[0m\n\u001b[0m\u001b[1;32m      2\u001b[0m \u001b[0;34m\u001b[0m\u001b[0m\n\u001b[1;32m      3\u001b[0m     \u001b[0;32mdef\u001b[0m \u001b[0m__init__\u001b[0m\u001b[0;34m(\u001b[0m\u001b[0mself\u001b[0m\u001b[0;34m)\u001b[0m\u001b[0;34m:\u001b[0m\u001b[0;34m\u001b[0m\u001b[0;34m\u001b[0m\u001b[0m\n\u001b[1;32m      4\u001b[0m         \u001b[0msuper\u001b[0m\u001b[0;34m(\u001b[0m\u001b[0mConvNet\u001b[0m\u001b[0;34m,\u001b[0m \u001b[0mself\u001b[0m\u001b[0;34m)\u001b[0m\u001b[0;34m.\u001b[0m\u001b[0m__init__\u001b[0m\u001b[0;34m(\u001b[0m\u001b[0;34m)\u001b[0m\u001b[0;34m\u001b[0m\u001b[0;34m\u001b[0m\u001b[0m\n\u001b[1;32m      5\u001b[0m \u001b[0;34m\u001b[0m\u001b[0m\n",
      "\u001b[0;31mNameError\u001b[0m: name 'nn' is not defined"
     ]
    }
   ],
   "source": [
    "class ConvNet(nn.Module):\n",
    "    \n",
    "    def __init__(self):\n",
    "        super(ConvNet, self).__init__()\n",
    "        \n",
    "        self.conv1 = nn.Sequential(\n",
    "            nn.Conv2d(num_channels, size_64, kernel_size, padding = 1, bias = False), #40*40\n",
    "            nn.ReLU(),\n",
    "            nn.MaxPool2d(kernel_size=2), #20*20\n",
    "            nn.BatchNorm2d(size_64)\n",
    "        )\n",
    "        \n",
    "        self.conv2 = nn.Sequential(\n",
    "            nn.Conv2d(size_64, size_128, kernel_size, padding = 1, bias = False), #20*20\n",
    "            nn.ReLU(),\n",
    "            nn.MaxPool2d(kernel_size=2), #10*10\n",
    "            nn.BatchNorm2d(size_128)\n",
    "        )\n",
    "        \n",
    "        self.conv3 = nn.Sequential(\n",
    "            nn.Conv2d(size_128, size_256, kernel_size, padding = 1, bias = False), #10*10\n",
    "            nn.ReLU(),\n",
    "            nn.BatchNorm2d(size_256)#\n",
    "        )\n",
    "        \n",
    "        self.conv4 = nn.Sequential(\n",
    "            nn.Conv2d(size_256, size_256, kernel_size, padding = 1, bias = False), #10*10\n",
    "            nn.ReLU(),\n",
    "            nn.MaxPool2d(kernel_size=2), #5*5\n",
    "            nn.BatchNorm2d(size_256)\n",
    "        )\n",
    "        \n",
    "        self.conv5 = nn.Sequential(\n",
    "            nn.Conv2d(size_256, size_512, kernel_size, padding = 1, bias = False), #5*5\n",
    "            nn.ReLU(),\n",
    "            nn.BatchNorm2d(size_512)#\n",
    "        )\n",
    "        \n",
    "        self.conv6 = nn.Sequential(\n",
    "            nn.Conv2d(size_512, size_512, kernel_size, padding = 1, bias = False), #5*5\n",
    "            nn.ReLU(),\n",
    "            nn.MaxPool2d(kernel_size=2), #2*2\n",
    "            nn.BatchNorm2d(size_512)\n",
    "        )\n",
    "        \n",
    "        self.conv7 = nn.Sequential(\n",
    "            nn.Conv2d(size_512, size_512, kernel_size, padding = 1, bias = False), #2*2\n",
    "            nn.ReLU(),\n",
    "            nn.BatchNorm2d(size_512)#\n",
    "        )\n",
    "        \n",
    "        self.conv8 = nn.Sequential(\n",
    "            nn.Conv2d(size_512, size_512, kernel_size, padding = 1, bias = False), #2*2\n",
    "            nn.ReLU(),\n",
    "            nn.MaxPool2d(kernel_size=2), #1*1\n",
    "            nn.BatchNorm2d(size_512),\n",
    "        )\n",
    "        \n",
    "        self.extraconv64 = nn.Sequential(\n",
    "            nn.Conv2d(num_channels, size_64, kernel_size, padding = 1, bias = False), \n",
    "            nn.ReLU(),\n",
    "            nn.BatchNorm2d(size_64)#\n",
    "        )\n",
    "        \n",
    "        self.altconv1 = nn.Sequential(\n",
    "            nn.Conv2d(size_64, size_64, kernel_size, padding = 1, bias = False), #40*40\n",
    "            nn.ReLU(),\n",
    "            nn.MaxPool2d(kernel_size=2), #20*20\n",
    "            nn.BatchNorm2d(size_64)\n",
    "        )\n",
    "        \n",
    "        self.extraconv128 = nn.Sequential(\n",
    "            nn.Conv2d(size_64, size_128, kernel_size, padding = 1, bias = False), \n",
    "            nn.ReLU(),\n",
    "            nn.BatchNorm2d(size_128)#\n",
    "        )\n",
    "        \n",
    "        self.altconv2 = nn.Sequential(\n",
    "            nn.Conv2d(size_128, size_128, kernel_size, padding = 1, bias = False), #20*20\n",
    "            nn.ReLU(),\n",
    "            nn.MaxPool2d(kernel_size=2), #10*10\n",
    "            nn.BatchNorm2d(size_128)\n",
    "        )\n",
    "        \n",
    "        self.extraconv256 = nn.Sequential(\n",
    "            nn.Conv2d(size_256, size_256, kernel_size, padding = 1, bias = False), \n",
    "            nn.ReLU(),\n",
    "            nn.BatchNorm2d(size_256)#\n",
    "        )\n",
    "        \n",
    "        self.extraconv512 = nn.Sequential(\n",
    "            nn.Conv2d(size_512, size_512, kernel_size, padding = 1, bias = False), \n",
    "            nn.ReLU(),\n",
    "            nn.BatchNorm2d(size_512),#\n",
    "        )\n",
    "        \n",
    "        self.linear1 = nn.Sequential(\n",
    "            nn.Flatten(),\n",
    "            nn.Linear(size_512, out1_size),\n",
    "            nn.ReLU(),\n",
    "            #nn.Dropout(0.5)\n",
    "        )\n",
    "        \n",
    "        self.linear2 = nn.Sequential(\n",
    "            nn.Linear(out1_size, out2_size),\n",
    "            nn.ReLU(),\n",
    "            #nn.Dropout(0.5)\n",
    "        )\n",
    "        \n",
    "        self.linear3 = nn.Sequential(\n",
    "            nn.Linear(out2_size, out3_size)\n",
    "        )\n",
    "        \n",
    "    def forward(self, x):\n",
    "        \n",
    "#         out = self.conv1(x)\n",
    "#         out = self.conv2(out)\n",
    "        out = self.extraconv64(x)\n",
    "        out = self.altconv1(out)\n",
    "        out = self.extraconv128(out)\n",
    "        out = self.altconv2(out)\n",
    "        out = self.conv3(out)\n",
    "        out = self.extraconv256(out)\n",
    "        out = self.extraconv256(out)\n",
    "        out = self.conv4(out)\n",
    "        out = self.conv5(out)\n",
    "        out = self.extraconv512(out)\n",
    "        out = self.extraconv512(out)\n",
    "        out = self.conv6(out)\n",
    "        out = self.conv7(out)\n",
    "        out = self.extraconv512(out)\n",
    "        out = self.extraconv512(out)\n",
    "        out = self.conv8(out)\n",
    "        \n",
    "        out = self.linear1(out)\n",
    "        out = self.linear2(out)\n",
    "        out = self.linear3(out)\n",
    "\n",
    "        \n",
    "        return out       "
   ]
  },
  {
   "cell_type": "code",
   "execution_count": 89,
   "id": "edf46cf8",
   "metadata": {},
   "outputs": [],
   "source": [
    "model = ConvNet()"
   ]
  },
  {
   "cell_type": "code",
   "execution_count": 90,
   "id": "d7b4edd4",
   "metadata": {},
   "outputs": [],
   "source": [
    "device = torch.device(\"cuda:0\" if torch.cuda.is_available() else \"cpu\")"
   ]
  },
  {
   "cell_type": "code",
   "execution_count": 91,
   "id": "bcaf2f63",
   "metadata": {},
   "outputs": [
    {
     "name": "stdout",
     "output_type": "stream",
     "text": [
      "cuda:0\n"
     ]
    }
   ],
   "source": [
    "print(device)"
   ]
  },
  {
   "cell_type": "code",
   "execution_count": 92,
   "id": "9fb12f01",
   "metadata": {},
   "outputs": [
    {
     "data": {
      "text/plain": [
       "ConvNet(\n",
       "  (conv1): Sequential(\n",
       "    (0): Conv2d(3, 64, kernel_size=(3, 3), stride=(1, 1), padding=(1, 1), bias=False)\n",
       "    (1): ReLU()\n",
       "    (2): MaxPool2d(kernel_size=2, stride=2, padding=0, dilation=1, ceil_mode=False)\n",
       "    (3): BatchNorm2d(64, eps=1e-05, momentum=0.1, affine=True, track_running_stats=True)\n",
       "  )\n",
       "  (conv2): Sequential(\n",
       "    (0): Conv2d(64, 128, kernel_size=(3, 3), stride=(1, 1), padding=(1, 1), bias=False)\n",
       "    (1): ReLU()\n",
       "    (2): MaxPool2d(kernel_size=2, stride=2, padding=0, dilation=1, ceil_mode=False)\n",
       "    (3): BatchNorm2d(128, eps=1e-05, momentum=0.1, affine=True, track_running_stats=True)\n",
       "  )\n",
       "  (conv3): Sequential(\n",
       "    (0): Conv2d(128, 256, kernel_size=(3, 3), stride=(1, 1), padding=(1, 1), bias=False)\n",
       "    (1): ReLU()\n",
       "  )\n",
       "  (conv4): Sequential(\n",
       "    (0): Conv2d(256, 256, kernel_size=(3, 3), stride=(1, 1), padding=(1, 1), bias=False)\n",
       "    (1): ReLU()\n",
       "    (2): MaxPool2d(kernel_size=2, stride=2, padding=0, dilation=1, ceil_mode=False)\n",
       "    (3): BatchNorm2d(256, eps=1e-05, momentum=0.1, affine=True, track_running_stats=True)\n",
       "  )\n",
       "  (conv5): Sequential(\n",
       "    (0): Conv2d(256, 512, kernel_size=(3, 3), stride=(1, 1), padding=(1, 1), bias=False)\n",
       "    (1): ReLU()\n",
       "  )\n",
       "  (conv6): Sequential(\n",
       "    (0): Conv2d(512, 512, kernel_size=(3, 3), stride=(1, 1), padding=(1, 1), bias=False)\n",
       "    (1): ReLU()\n",
       "    (2): MaxPool2d(kernel_size=2, stride=2, padding=0, dilation=1, ceil_mode=False)\n",
       "    (3): BatchNorm2d(512, eps=1e-05, momentum=0.1, affine=True, track_running_stats=True)\n",
       "  )\n",
       "  (conv7): Sequential(\n",
       "    (0): Conv2d(512, 512, kernel_size=(3, 3), stride=(1, 1), padding=(1, 1), bias=False)\n",
       "    (1): ReLU()\n",
       "  )\n",
       "  (conv8): Sequential(\n",
       "    (0): Conv2d(512, 512, kernel_size=(3, 3), stride=(1, 1), padding=(1, 1), bias=False)\n",
       "    (1): ReLU()\n",
       "    (2): MaxPool2d(kernel_size=2, stride=2, padding=0, dilation=1, ceil_mode=False)\n",
       "    (3): BatchNorm2d(512, eps=1e-05, momentum=0.1, affine=True, track_running_stats=True)\n",
       "  )\n",
       "  (extraconv64): Sequential(\n",
       "    (0): Conv2d(3, 64, kernel_size=(3, 3), stride=(1, 1), padding=(1, 1), bias=False)\n",
       "    (1): ReLU()\n",
       "  )\n",
       "  (altconv1): Sequential(\n",
       "    (0): Conv2d(64, 64, kernel_size=(3, 3), stride=(1, 1), padding=(1, 1), bias=False)\n",
       "    (1): ReLU()\n",
       "    (2): MaxPool2d(kernel_size=2, stride=2, padding=0, dilation=1, ceil_mode=False)\n",
       "    (3): BatchNorm2d(64, eps=1e-05, momentum=0.1, affine=True, track_running_stats=True)\n",
       "  )\n",
       "  (extraconv128): Sequential(\n",
       "    (0): Conv2d(64, 128, kernel_size=(3, 3), stride=(1, 1), padding=(1, 1), bias=False)\n",
       "    (1): ReLU()\n",
       "  )\n",
       "  (altconv2): Sequential(\n",
       "    (0): Conv2d(128, 128, kernel_size=(3, 3), stride=(1, 1), padding=(1, 1), bias=False)\n",
       "    (1): ReLU()\n",
       "    (2): MaxPool2d(kernel_size=2, stride=2, padding=0, dilation=1, ceil_mode=False)\n",
       "    (3): BatchNorm2d(128, eps=1e-05, momentum=0.1, affine=True, track_running_stats=True)\n",
       "  )\n",
       "  (extraconv256): Sequential(\n",
       "    (0): Conv2d(256, 256, kernel_size=(3, 3), stride=(1, 1), padding=(1, 1), bias=False)\n",
       "    (1): ReLU()\n",
       "  )\n",
       "  (extraconv512): Sequential(\n",
       "    (0): Conv2d(512, 512, kernel_size=(3, 3), stride=(1, 1), padding=(1, 1), bias=False)\n",
       "    (1): ReLU()\n",
       "  )\n",
       "  (linear1): Sequential(\n",
       "    (0): Flatten(start_dim=1, end_dim=-1)\n",
       "    (1): Linear(in_features=512, out_features=4096, bias=True)\n",
       "    (2): ReLU()\n",
       "  )\n",
       "  (linear2): Sequential(\n",
       "    (0): Linear(in_features=4096, out_features=1000, bias=True)\n",
       "    (1): ReLU()\n",
       "  )\n",
       "  (linear3): Sequential(\n",
       "    (0): Linear(in_features=1000, out_features=10, bias=True)\n",
       "  )\n",
       ")"
      ]
     },
     "execution_count": 92,
     "metadata": {},
     "output_type": "execute_result"
    }
   ],
   "source": [
    "model.to(device)"
   ]
  },
  {
   "cell_type": "code",
   "execution_count": 93,
   "id": "2b856864",
   "metadata": {},
   "outputs": [],
   "source": [
    "learning_rate = 0.0001\n",
    "\n",
    "loss_metric = nn.CrossEntropyLoss()\n",
    "#weight decay\n",
    "#optimizer= torch.optim.SGD(model.parameters(),lr=0.001,momentum=0.9, weight_decay = 0.0001)\n",
    "optimizer = torch.optim.AdamW(model.parameters(), lr = learning_rate, weight_decay = 0.0001)\n",
    "#scheduler = torch.optim.lr_scheduler.ReduceLROnPlateau(optimizer, 'min', factor=0.1)\n",
    "scheduler = torch.optim.lr_scheduler.OneCycleLR(optimizer, max_lr = learning_rate, steps_per_epoch = len(trainloader), \n",
    "                                                epochs = 50, base_momentum = 0.85, max_momentum = 0.95, \n",
    "                                                div_factor = 10, final_div_factor = 10, three_phase = True,\n",
    "                                                anneal_strategy = 'cos', pct_start = 0.4)"
   ]
  },
  {
   "cell_type": "code",
   "execution_count": 94,
   "id": "64eee077",
   "metadata": {},
   "outputs": [],
   "source": [
    "num_epochs = 50\n",
    "\n",
    "train_accuracies = []\n",
    "train_losses = []\n",
    "train_lr = []"
   ]
  },
  {
   "cell_type": "code",
   "execution_count": 95,
   "id": "ce24e14c",
   "metadata": {},
   "outputs": [
    {
     "name": "stdout",
     "output_type": "stream",
     "text": [
      "LR: [3.0000000000000024e-05]\n",
      "Epoch: 1 Loss: 1.7621541174171527 Accuracy: {}% 35.164\n",
      "LR: [3.0328871898279417e-05]\n",
      "Epoch: 2 Loss: 1.5391747744949273 Accuracy: {}% 43.858\n",
      "LR: [3.131388527125869e-05]\n",
      "Epoch: 3 Loss: 1.4325836550854052 Accuracy: {}% 48.484\n",
      "LR: [3.2950240960155544e-05]\n",
      "Epoch: 4 Loss: 1.355192809687246 Accuracy: {}% 51.192\n",
      "LR: [3.522996635161197e-05]\n",
      "Epoch: 5 Loss: 1.2948380974704956 Accuracy: {}% 53.88\n",
      "LR: [3.8141954221671784e-05]\n",
      "Epoch: 6 Loss: 1.2276812602034615 Accuracy: {}% 56.388\n",
      "LR: [4.16720168521336e-05]\n",
      "Epoch: 7 Loss: 1.1891257634095829 Accuracy: {}% 57.934\n",
      "LR: [4.580295515561471e-05]\n",
      "Epoch: 8 Loss: 1.1423519173698962 Accuracy: {}% 59.362\n",
      "LR: [5.051464247253691e-05]\n",
      "Epoch: 9 Loss: 1.1037453848230259 Accuracy: {}% 61.248\n",
      "LR: [5.57841226317591e-05]\n",
      "Epoch: 10 Loss: 1.0742282614378673 Accuracy: {}% 62.074\n",
      "LR: [6.158572179709008e-05]\n",
      "Epoch: 11 Loss: 1.0457951019487113 Accuracy: {}% 63.548\n",
      "LR: [6.789117355474378e-05]\n",
      "Epoch: 12 Loss: 1.0247070618602625 Accuracy: {}% 64.248\n",
      "LR: [7.466975663228992e-05]\n",
      "Epoch: 13 Loss: 0.9996446805536899 Accuracy: {}% 65.08\n",
      "LR: [8.188844457810825e-05]\n",
      "Epoch: 14 Loss: 0.968620699080055 Accuracy: {}% 66.352\n",
      "LR: [8.951206667208301e-05]\n",
      "Epoch: 15 Loss: 0.9482068251770781 Accuracy: {}% 67.04\n",
      "LR: [9.750347928355016e-05]\n",
      "Epoch: 16 Loss: 0.9211908573537226 Accuracy: {}% 68.166\n",
      "LR: [0.00010582374684161392]\n",
      "Epoch: 17 Loss: 0.9039535382214714 Accuracy: {}% 68.666\n",
      "LR: [0.00011443233153611123]\n",
      "Epoch: 18 Loss: 0.8900045725848059 Accuracy: {}% 69.152\n",
      "LR: [0.00012328729082496827]\n",
      "Epoch: 19 Loss: 0.8682568697520839 Accuracy: {}% 70.116\n",
      "LR: [0.0001323454817856589]\n",
      "Epoch: 20 Loss: 0.845795043670308 Accuracy: {}% 70.708\n",
      "LR: [0.00014156277131512806]\n",
      "Epoch: 21 Loss: 0.8332026486887651 Accuracy: {}% 71.26\n",
      "LR: [0.0001508942511540491]\n",
      "Epoch: 22 Loss: 0.8165723689453072 Accuracy: {}% 71.81\n",
      "LR: [0.00016029445668777934]\n",
      "Epoch: 23 Loss: 0.8009368843206054 Accuracy: {}% 72.44\n",
      "LR: [0.00016971758845797663]\n",
      "Epoch: 24 Loss: 0.7872492857753773 Accuracy: {}% 73.024\n",
      "LR: [0.0001791177353056335]\n",
      "Epoch: 25 Loss: 0.7707919675828246 Accuracy: {}% 73.622\n",
      "LR: [0.0001884490980583368]\n",
      "Epoch: 26 Loss: 0.7608464187978173 Accuracy: {}% 74.036\n",
      "LR: [0.00019766621267190842]\n",
      "Epoch: 27 Loss: 0.7452440020983176 Accuracy: {}% 74.552\n",
      "LR: [0.00020672417173924293]\n",
      "Epoch: 28 Loss: 0.7355935110917786 Accuracy: {}% 74.794\n",
      "LR: [0.00021557884328711043]\n",
      "Epoch: 29 Loss: 0.7323007571803944 Accuracy: {}% 75.038\n",
      "LR: [0.00022418708579490968]\n",
      "Epoch: 30 Loss: 0.7064000797622344 Accuracy: {}% 75.972\n",
      "LR: [0.00023250695838776078]\n",
      "Epoch: 31 Loss: 0.694704129910835 Accuracy: {}% 76.014\n",
      "LR: [0.00024049792517984075]\n",
      "Epoch: 32 Loss: 0.6862797687196975 Accuracy: {}% 76.628\n",
      "LR: [0.00024812105277236446]\n",
      "Epoch: 33 Loss: 0.6742952466392151 Accuracy: {}% 76.754\n",
      "LR: [0.00025533919994396627]\n",
      "Epoch: 34 Loss: 0.6667978743381817 Accuracy: {}% 77.186\n",
      "LR: [0.00026211719860927743]\n",
      "Epoch: 35 Loss: 0.6589735212076046 Accuracy: {}% 77.374\n",
      "LR: [0.00026842202516403734]\n",
      "Epoch: 36 Loss: 0.6506134949224379 Accuracy: {}% 77.71\n",
      "LR: [0.0002742229613819144]\n",
      "Epoch: 37 Loss: 0.6366861281568742 Accuracy: {}% 78.364\n",
      "LR: [0.00027949174407911927]\n",
      "Epoch: 38 Loss: 0.6265282670174108 Accuracy: {}% 78.614\n",
      "LR: [0.0002842027028176187]\n",
      "Epoch: 39 Loss: 0.6154250772026799 Accuracy: {}% 79.012\n",
      "LR: [0.0002883328849760342]\n",
      "Epoch: 40 Loss: 0.6053248138531394 Accuracy: {}% 79.232\n",
      "LR: [0.00029186216757885947]\n",
      "Epoch: 41 Loss: 0.5909125504210172 Accuracy: {}% 79.674\n",
      "LR: [0.000294773355339144]\n",
      "Epoch: 42 Loss: 0.5813217103824286 Accuracy: {}% 80.234\n",
      "LR: [0.00029705226443696225]\n",
      "Epoch: 43 Loss: 0.5758890517799141 Accuracy: {}% 80.442\n",
      "LR: [0.0002986877916254846]\n",
      "Epoch: 44 Loss: 0.5671605401293701 Accuracy: {}% 80.618\n",
      "LR: [0.0002996719683279528]\n",
      "Epoch: 45 Loss: 0.5591869468579207 Accuracy: {}% 80.924\n",
      "LR: [0.00029999999946199083]\n",
      "Epoch: 46 Loss: 0.554636980547472 Accuracy: {}% 80.98\n",
      "LR: [0.00029967028680209134]\n",
      "Epoch: 47 Loss: 0.5429414396967425 Accuracy: {}% 81.458\n",
      "LR: [0.000298684436766452]\n",
      "Epoch: 48 Loss: 0.5250013232459803 Accuracy: {}% 82.004\n",
      "LR: [0.0002970472525902232]\n",
      "Epoch: 49 Loss: 0.5226067995743069 Accuracy: {}% 82.16\n",
      "LR: [0.0002947667109232992]\n",
      "Epoch: 50 Loss: 0.5128805409268955 Accuracy: {}% 82.476\n",
      "LR: [0.00029185392296667413]\n",
      "Epoch: 51 Loss: 0.5027914298198107 Accuracy: {}% 82.806\n",
      "LR: [0.00028832308033671216]\n",
      "Epoch: 52 Loss: 0.4955156197785721 Accuracy: {}% 83.14\n",
      "LR: [0.000284191385921091]\n",
      "Epoch: 53 Loss: 0.4802207673525871 Accuracy: {}% 83.464\n",
      "LR: [0.0002794789700633006]\n",
      "Epoch: 54 Loss: 0.480243968860725 Accuracy: {}% 83.518\n",
      "LR: [0.0002742087924840616]\n",
      "Epoch: 55 Loss: 0.46373695028407497 Accuracy: {}% 84.288\n",
      "LR: [0.00026840653041751834]\n",
      "Epoch: 56 Loss: 0.4567916359171233 Accuracy: {}% 84.168\n",
      "LR: [0.00026210045350722844]\n",
      "Epoch: 57 Loss: 0.451948872574455 Accuracy: {}% 84.48\n",
      "LR: [0.00025532128607147616]\n",
      "Epoch: 58 Loss: 0.45132251154355074 Accuracy: {}% 84.61\n",
      "LR: [0.0002481020574089778]\n",
      "Epoch: 59 Loss: 0.4376027950697848 Accuracy: {}% 85.034\n",
      "LR: [0.00024047794087431618]\n",
      "Epoch: 60 Loss: 0.43071716509359265 Accuracy: {}% 85.218\n",
      "LR: [0.00023248608250715745]\n",
      "Epoch: 61 Loss: 0.4143732739969745 Accuracy: {}% 85.848\n",
      "LR: [0.00022416542005019774]\n",
      "Epoch: 62 Loss: 0.4093957045651458 Accuracy: {}% 86.056\n",
      "LR: [0.00021555649323761714]\n",
      "Epoch: 63 Loss: 0.40135865751892097 Accuracy: {}% 86.264\n",
      "LR: [0.0002067012462783491]\n",
      "Epoch: 64 Loss: 0.39773706824082855 Accuracy: {}% 86.358\n",
      "LR: [0.00019764282349650066]\n",
      "Epoch: 65 Loss: 0.38492329630171856 Accuracy: {}% 86.75\n",
      "LR: [0.00018842535912460046]\n",
      "Epoch: 66 Loss: 0.3822543843056235 Accuracy: {}% 86.95\n",
      "LR: [0.00017909376227383828]\n",
      "Epoch: 67 Loss: 0.3748275672688204 Accuracy: {}% 87.136\n",
      "LR: [0.0001696934981289591]\n",
      "Epoch: 68 Loss: 0.3616236570812857 Accuracy: {}% 87.574\n",
      "LR: [0.0001602703664338689]\n",
      "Epoch: 69 Loss: 0.3481736175068047 Accuracy: {}% 88.088\n",
      "LR: [0.0001508702783472093]\n",
      "Epoch: 70 Loss: 0.344312071704956 Accuracy: {}% 88.106\n",
      "LR: [0.00014153903275509946]\n",
      "Epoch: 71 Loss: 0.342484803170042 Accuracy: {}% 88.366\n",
      "LR: [0.0001323220931308904]\n",
      "Epoch: 72 Loss: 0.33618853439379226 Accuracy: {}% 88.498\n",
      "LR: [0.0001232643660291086]\n",
      "Epoch: 73 Loss: 0.32942681899651544 Accuracy: {}% 88.716\n",
      "LR: [0.00011440998229280686]\n",
      "Epoch: 74 Loss: 0.32555310509127117 Accuracy: {}% 88.772\n",
      "LR: [0.00010580208204031772]\n",
      "Epoch: 75 Loss: 0.3131590765779433 Accuracy: {}% 89.22\n",
      "LR: [9.748260447899285e-05]\n",
      "Epoch: 76 Loss: 0.30355506873382326 Accuracy: {}% 89.636\n",
      "LR: [8.949208356999209e-05]\n",
      "Epoch: 77 Loss: 0.3032968687298505 Accuracy: {}% 89.524\n",
      "LR: [8.186945053967955e-05]\n",
      "Epoch: 78 Loss: 0.29938689152450515 Accuracy: {}% 89.716\n",
      "LR: [7.46518441998267e-05]\n",
      "Epoch: 79 Loss: 0.29530603059417454 Accuracy: {}% 89.77\n",
      "LR: [6.787443000077447e-05]\n",
      "Epoch: 80 Loss: 0.28851449028457826 Accuracy: {}% 90.038\n",
      "LR: [6.157022869916102e-05]\n",
      "Epoch: 81 Loss: 0.2784506451395695 Accuracy: {}% 90.294\n",
      "LR: [5.576995547497438e-05]\n",
      "Epoch: 82 Loss: 0.28489182204427316 Accuracy: {}% 90.312\n",
      "LR: [5.0501870281781654e-05]\n",
      "Epoch: 83 Loss: 0.2776999134960992 Accuracy: {}% 90.44\n",
      "LR: [4.579164015925365e-05]\n",
      "Epoch: 84 Loss: 0.27544541894684516 Accuracy: {}% 90.538\n",
      "LR: [4.166221417882342e-05]\n",
      "Epoch: 85 Loss: 0.27265289118108543 Accuracy: {}% 90.672\n",
      "LR: [3.81337116317649e-05]\n",
      "Epoch: 86 Loss: 0.26855193193325455 Accuracy: {}% 90.598\n",
      "LR: [3.522332400445928e-05]\n",
      "Epoch: 87 Loss: 0.26657324121869586 Accuracy: {}% 90.67\n",
      "LR: [3.294523121844323e-05]\n",
      "Epoch: 88 Loss: 0.2647703534654339 Accuracy: {}% 90.934\n",
      "LR: [3.131053254333143e-05]\n",
      "Epoch: 89 Loss: 0.2644874236982344 Accuracy: {}% 90.9\n",
      "LR: [3.03271925192187e-05]\n",
      "Epoch: 90 Loss: 0.2574480921935166 Accuracy: {}% 91.104\n",
      "LR: [2.9999995643488e-05]\n",
      "Epoch: 91 Loss: 0.26160482260520046 Accuracy: {}% 91.104\n",
      "LR: [2.9336075346360497e-05]\n",
      "Epoch: 92 Loss: 0.25802269963371327 Accuracy: {}% 91.164\n",
      "LR: [2.741598920385145e-05]\n",
      "Epoch: 93 Loss: 0.2556727733320135 Accuracy: {}% 91.348\n",
      "LR: [2.442764096125121e-05]\n",
      "Epoch: 94 Loss: 0.2556025533582015 Accuracy: {}% 91.066\n",
      "LR: [2.066347678260669e-05]\n",
      "Epoch: 95 Loss: 0.2607018848419037 Accuracy: {}% 90.938\n",
      "LR: [1.6491865842298184e-05]\n",
      "Epoch: 96 Loss: 0.2523526199152479 Accuracy: {}% 91.25\n",
      "LR: [1.2321050928096587e-05]\n",
      "Epoch: 97 Loss: 0.24245383130753284 Accuracy: {}% 91.47\n",
      "LR: [8.559196926951829e-06]\n",
      "Epoch: 98 Loss: 0.2467412555094837 Accuracy: {}% 91.518\n",
      "LR: [5.5744469343225854e-06]\n",
      "Epoch: 99 Loss: 0.24448877485835796 Accuracy: {}% 91.54\n",
      "LR: [3.6588949818013712e-06]\n",
      "Epoch: 100 Loss: 0.24401190159532726 Accuracy: {}% 91.544\n",
      "Finished Training\n"
     ]
    }
   ],
   "source": [
    "for epoch in range(num_epochs):\n",
    "    \n",
    "    running_loss=0\n",
    "    correct = 0\n",
    "    total = 0\n",
    "    \n",
    "    print('LR:', scheduler.get_lr())\n",
    "    \n",
    "    train_lr.append(scheduler.get_lr())\n",
    "    \n",
    "    for i, (images, labels) in enumerate(trainloader):\n",
    "        \n",
    "        images, labels = images.to(device), labels.to(device)\n",
    "        outputs = model(images)\n",
    "        loss = loss_metric(outputs, labels)\n",
    "        \n",
    "        optimizer.zero_grad()\n",
    "        loss.backward()\n",
    "        optimizer.step()\n",
    "        scheduler.step()\n",
    "        running_loss += loss.item()\n",
    "     \n",
    "        _, predicted = outputs.max(1)\n",
    "        total += labels.size(0)\n",
    "        correct += predicted.eq(labels).sum().item()\n",
    "       \n",
    "    train_loss=running_loss/len(trainloader)\n",
    "    accuracy=100*correct/total\n",
    "   \n",
    "    #scheduler.step()\n",
    "\n",
    "    train_accuracies.append(accuracy)\n",
    "    train_losses.append(train_loss)\n",
    "        \n",
    "        \n",
    "    print('Epoch:', epoch+1, 'Loss:', train_loss, 'Accuracy: {}%', accuracy)\n",
    "\n",
    "print('Finished Training')"
   ]
  },
  {
   "cell_type": "code",
   "execution_count": 96,
   "id": "d2785175",
   "metadata": {},
   "outputs": [
    {
     "name": "stdout",
     "output_type": "stream",
     "text": [
      "Test Loss: 0.247 | Accuracy: 91.760\n"
     ]
    }
   ],
   "source": [
    "model.eval()\n",
    "\n",
    "running_loss=0\n",
    "correct=0\n",
    "total=0\n",
    " \n",
    "with torch.no_grad():\n",
    "    for i, (images, labels) in enumerate(testloader):\n",
    "        images, labels = images.to(device), labels.to(device)\n",
    "       \n",
    "        outputs=model(images)\n",
    " \n",
    "        loss= loss_metric(outputs,labels)\n",
    "        running_loss+=loss.item()\n",
    "       \n",
    "        _, predicted = outputs.max(1)\n",
    "        total += labels.size(0)\n",
    "        correct += predicted.eq(labels).sum().item()\n",
    "        \n",
    "test_loss=running_loss/len(testloader)\n",
    "accuracy=100*correct/total\n",
    "\n",
    "print('Test Loss: %.3f | Accuracy: %.3f'%(test_loss,accuracy)) "
   ]
  },
  {
   "cell_type": "code",
   "execution_count": 97,
   "id": "55bc1550",
   "metadata": {},
   "outputs": [
    {
     "data": {
      "image/png": "[encoded data removed]",
      "text/plain": [
       "<Figure size 432x288 with 1 Axes>"
      ]
     },
     "metadata": {
      "needs_background": "light"
     },
     "output_type": "display_data"
    }
   ],
   "source": [
    "plt.plot(train_accuracies,'-o')\n",
    "plt.xlabel('epoch')\n",
    "plt.ylabel('accuracy')\n",
    "plt.title('Epoch vs Train Accuracy')\n",
    " \n",
    "plt.show()"
   ]
  },
  {
   "cell_type": "code",
   "execution_count": 98,
   "id": "charitable-characteristic",
   "metadata": {},
   "outputs": [
    {
     "data": {
      "image/png": "[encoded data removed]",
      "text/plain": [
       "<Figure size 432x288 with 1 Axes>"
      ]
     },
     "metadata": {
      "needs_background": "light"
     },
     "output_type": "display_data"
    }
   ],
   "source": [
    "plt.plot(train_losses,'-o')\n",
    "plt.xlabel('epoch')\n",
    "plt.ylabel('loss')\n",
    "plt.title('Epoch vs Loss')\n",
    " \n",
    "plt.show()"
   ]
  },
  {
   "cell_type": "code",
   "execution_count": 99,
   "id": "annual-husband",
   "metadata": {},
   "outputs": [
    {
     "data": {
      "image/png": "[encoded data removed]",
      "text/plain": [
       "<Figure size 432x288 with 1 Axes>"
      ]
     },
     "metadata": {
      "needs_background": "light"
     },
     "output_type": "display_data"
    }
   ],
   "source": [
    "plt.plot(train_lr,'-o')\n",
    "plt.xlabel('epoch')\n",
    "plt.ylabel('accuracy')\n",
    "plt.title('Epoch vs Train Learning Rate')\n",
    " \n",
    "plt.show()"
   ]
  },
  {
   "cell_type": "code",
   "execution_count": null,
   "id": "b78a1531",
   "metadata": {},
   "outputs": [],
   "source": []
  }
 ],
 "metadata": {
  "kernelspec": {
   "display_name": "Python 3",
   "language": "python",
   "name": "python3"
  },
  "language_info": {
   "codemirror_mode": {
    "name": "ipython",
    "version": 3
   },
   "file_extension": ".py",
   "mimetype": "text/x-python",
   "name": "python",
   "nbconvert_exporter": "python",
   "pygments_lexer": "ipython3",
   "version": "3.8.10"
  }
 },
 "nbformat": 4,
 "nbformat_minor": 5
}
